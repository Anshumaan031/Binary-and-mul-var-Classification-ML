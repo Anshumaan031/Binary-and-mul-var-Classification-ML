{
 "cells": [
  {
   "cell_type": "code",
   "execution_count": 1,
   "metadata": {},
   "outputs": [],
   "source": [
    "import pandas as pd\n",
    "from sklearn.datasets import load_digits\n",
    "%matplotlib inline\n",
    "import matplotlib.pyplot as plt\n",
    "digits = load_digits()"
   ]
  },
  {
   "cell_type": "code",
   "execution_count": 2,
   "metadata": {},
   "outputs": [
    {
     "data": {
      "text/plain": [
       "['DESCR', 'data', 'feature_names', 'frame', 'images', 'target', 'target_names']"
      ]
     },
     "execution_count": 2,
     "metadata": {},
     "output_type": "execute_result"
    }
   ],
   "source": [
    "dir(digits)"
   ]
  },
  {
   "cell_type": "code",
   "execution_count": 3,
   "metadata": {},
   "outputs": [
    {
     "data": {
      "text/plain": [
       "array([ 0.,  0.,  5., 13.,  9.,  1.,  0.,  0.,  0.,  0., 13., 15., 10.,\n",
       "       15.,  5.,  0.,  0.,  3., 15.,  2.,  0., 11.,  8.,  0.,  0.,  4.,\n",
       "       12.,  0.,  0.,  8.,  8.,  0.,  0.,  5.,  8.,  0.,  0.,  9.,  8.,\n",
       "        0.,  0.,  4., 11.,  0.,  1., 12.,  7.,  0.,  0.,  2., 14.,  5.,\n",
       "       10., 12.,  0.,  0.,  0.,  0.,  6., 13., 10.,  0.,  0.,  0.])"
      ]
     },
     "execution_count": 3,
     "metadata": {},
     "output_type": "execute_result"
    }
   ],
   "source": [
    "digits.data[0]"
   ]
  },
  {
   "cell_type": "code",
   "execution_count": 7,
   "metadata": {},
   "outputs": [
    {
     "data": {
      "text/plain": [
       "<Figure size 432x288 with 0 Axes>"
      ]
     },
     "metadata": {},
     "output_type": "display_data"
    },
    {
     "data": {
      "image/png": "[encoded data removed]",
      "text/plain": [
       "<Figure size 288x288 with 1 Axes>"
      ]
     },
     "metadata": {
      "needs_background": "light"
     },
     "output_type": "display_data"
    },
    {
     "data": {
      "image/png": "[encoded data removed]",
      "text/plain": [
       "<Figure size 288x288 with 1 Axes>"
      ]
     },
     "metadata": {
      "needs_background": "light"
     },
     "output_type": "display_data"
    },
    {
     "data": {
      "image/png": "[encoded data removed]",
      "text/plain": [
       "<Figure size 288x288 with 1 Axes>"
      ]
     },
     "metadata": {
      "needs_background": "light"
     },
     "output_type": "display_data"
    },
    {
     "data": {
      "image/png": "[encoded data removed]",
      "text/plain": [
       "<Figure size 288x288 with 1 Axes>"
      ]
     },
     "metadata": {
      "needs_background": "light"
     },
     "output_type": "display_data"
    },
    {
     "data": {
      "image/png": "[encoded data removed]",
      "text/plain": [
       "<Figure size 288x288 with 1 Axes>"
      ]
     },
     "metadata": {
      "needs_background": "light"
     },
     "output_type": "display_data"
    }
   ],
   "source": [
    "plt.gray()\n",
    "for i in range(5):\n",
    "    plt.matshow(digits.images[0])"
   ]
  },
  {
   "cell_type": "code",
   "execution_count": 10,
   "metadata": {},
   "outputs": [
    {
     "data": {
      "text/plain": [
       "array([0, 1, 2, 3, 4])"
      ]
     },
     "execution_count": 10,
     "metadata": {},
     "output_type": "execute_result"
    }
   ],
   "source": [
    "digits.target[0:5]"
   ]
  },
  {
   "cell_type": "code",
   "execution_count": 17,
   "metadata": {},
   "outputs": [],
   "source": [
    "from sklearn.model_selection import train_test_split"
   ]
  },
  {
   "cell_type": "code",
   "execution_count": 19,
   "metadata": {},
   "outputs": [],
   "source": [
    "x_train, x_test, y_train, y_test = train_test_split(digits.data,digits.target, train_size=0.8)"
   ]
  },
  {
   "cell_type": "code",
   "execution_count": 21,
   "metadata": {},
   "outputs": [
    {
     "data": {
      "text/plain": [
       "array([[ 0.,  0.,  0., ...,  9.,  0.,  0.],\n",
       "       [ 0.,  0.,  6., ...,  0.,  0.,  0.],\n",
       "       [ 0.,  0.,  0., ...,  2.,  0.,  0.],\n",
       "       ...,\n",
       "       [ 0.,  0.,  0., ...,  4.,  0.,  0.],\n",
       "       [ 0.,  3., 15., ..., 16., 16.,  2.],\n",
       "       [ 0.,  0.,  0., ...,  0.,  0.,  0.]])"
      ]
     },
     "execution_count": 21,
     "metadata": {},
     "output_type": "execute_result"
    }
   ],
   "source": [
    "x_train"
   ]
  },
  {
   "cell_type": "code",
   "execution_count": 22,
   "metadata": {},
   "outputs": [],
   "source": [
    "from sklearn.linear_model import LogisticRegression\n",
    "model=LogisticRegression()"
   ]
  },
  {
   "cell_type": "code",
   "execution_count": 23,
   "metadata": {},
   "outputs": [
    {
     "name": "stderr",
     "output_type": "stream",
     "text": [
      "E:\\Anaconda\\lib\\site-packages\\sklearn\\linear_model\\_logistic.py:762: ConvergenceWarning: lbfgs failed to converge (status=1):\n",
      "STOP: TOTAL NO. of ITERATIONS REACHED LIMIT.\n",
      "\n",
      "Increase the number of iterations (max_iter) or scale the data as shown in:\n",
      "    https://scikit-learn.org/stable/modules/preprocessing.html\n",
      "Please also refer to the documentation for alternative solver options:\n",
      "    https://scikit-learn.org/stable/modules/linear_model.html#logistic-regression\n",
      "  n_iter_i = _check_optimize_result(\n"
     ]
    },
    {
     "data": {
      "text/plain": [
       "LogisticRegression()"
      ]
     },
     "execution_count": 23,
     "metadata": {},
     "output_type": "execute_result"
    }
   ],
   "source": [
    "model.fit(x_train,y_train)"
   ]
  },
  {
   "cell_type": "code",
   "execution_count": 26,
   "metadata": {},
   "outputs": [
    {
     "data": {
      "text/plain": [
       "array([2, 4, 8, 0, 0, 8, 5, 7, 9, 0, 1, 4, 3, 8, 8, 2, 7, 1, 7, 3, 9, 7,\n",
       "       4, 3, 9, 4, 8, 3, 5, 0, 4, 8, 8, 6, 2, 0, 5, 5, 8, 0, 8, 6, 3, 2,\n",
       "       9, 0, 6, 6, 4, 5, 5, 4, 4, 9, 6, 0, 9, 8, 6, 8, 3, 2, 8, 4, 9, 9,\n",
       "       7, 5, 2, 8, 0, 0, 7, 6, 2, 7, 9, 1, 3, 6, 4, 9, 7, 6, 5, 9, 4, 2,\n",
       "       9, 3, 0, 4, 8, 0, 3, 9, 7, 7, 9, 4, 5, 3, 9, 1, 8, 1, 5, 6, 9, 4,\n",
       "       9, 4, 9, 4, 6, 1, 4, 2, 0, 1, 2, 9, 1, 7, 6, 1, 2, 5, 9, 6, 8, 4,\n",
       "       8, 3, 6, 1, 8, 2, 5, 5, 0, 4, 9, 8, 8, 0, 7, 7, 6, 0, 8, 9, 2, 7,\n",
       "       1, 7, 7, 1, 8, 2, 5, 6, 7, 3, 7, 8, 9, 3, 9, 3, 8, 5, 0, 3, 3, 0,\n",
       "       1, 2, 8, 6, 4, 3, 7, 0, 5, 7, 3, 5, 8, 8, 2, 9, 6, 1, 9, 8, 5, 2,\n",
       "       0, 8, 0, 2, 2, 8, 0, 7, 3, 9, 6, 4, 7, 4, 5, 1, 4, 0, 4, 1, 2, 7,\n",
       "       7, 5, 7, 7, 4, 1, 0, 9, 2, 0, 2, 7, 3, 1, 4, 3, 2, 2, 0, 7, 1, 3,\n",
       "       8, 8, 7, 3, 1, 5, 3, 6, 6, 9, 9, 4, 9, 1, 4, 9, 8, 4, 0, 1, 2, 1,\n",
       "       8, 2, 1, 7, 1, 1, 1, 1, 0, 2, 6, 1, 6, 4, 1, 0, 2, 5, 7, 3, 0, 8,\n",
       "       2, 8, 8, 7, 7, 3, 3, 3, 9, 5, 3, 8, 5, 4, 4, 8, 7, 2, 7, 0, 6, 6,\n",
       "       4, 6, 2, 8, 1, 2, 1, 9, 4, 7, 1, 1, 8, 7, 6, 4, 4, 9, 2, 4, 7, 7,\n",
       "       0, 0, 6, 6, 4, 4, 0, 8, 9, 4, 5, 3, 6, 8, 9, 6, 8, 2, 1, 0, 4, 7,\n",
       "       8, 6, 3, 3, 6, 0, 5, 1])"
      ]
     },
     "execution_count": 26,
     "metadata": {},
     "output_type": "execute_result"
    }
   ],
   "source": [
    "y_test"
   ]
  },
  {
   "cell_type": "code",
   "execution_count": 24,
   "metadata": {},
   "outputs": [
    {
     "data": {
      "text/plain": [
       "0.9555555555555556"
      ]
     },
     "execution_count": 24,
     "metadata": {},
     "output_type": "execute_result"
    }
   ],
   "source": [
    "model.score(x_test,y_test)"
   ]
  },
  {
   "cell_type": "code",
   "execution_count": 25,
   "metadata": {},
   "outputs": [
    {
     "data": {
      "text/plain": [
       "array([2, 4, 8, 0, 0, 8, 5, 7, 9, 0, 1, 4, 3, 8, 8, 2, 7, 1, 7, 5, 8, 7,\n",
       "       4, 3, 9, 4, 8, 3, 5, 0, 4, 8, 8, 6, 2, 0, 5, 6, 3, 0, 8, 6, 3, 2,\n",
       "       9, 0, 6, 6, 4, 5, 5, 4, 4, 9, 6, 0, 9, 8, 6, 8, 3, 2, 8, 4, 9, 3,\n",
       "       7, 5, 2, 8, 0, 0, 7, 6, 2, 5, 9, 1, 3, 6, 1, 8, 7, 6, 5, 8, 4, 2,\n",
       "       9, 3, 0, 4, 8, 0, 3, 9, 7, 7, 9, 4, 5, 3, 9, 1, 8, 1, 5, 6, 9, 4,\n",
       "       9, 4, 9, 4, 6, 1, 4, 2, 0, 1, 2, 9, 1, 7, 6, 1, 2, 5, 9, 6, 8, 4,\n",
       "       8, 3, 6, 1, 8, 2, 5, 5, 0, 4, 9, 8, 8, 0, 7, 7, 6, 0, 8, 9, 2, 7,\n",
       "       1, 7, 7, 1, 8, 2, 5, 6, 7, 3, 7, 8, 9, 3, 9, 3, 8, 5, 0, 3, 5, 0,\n",
       "       1, 2, 8, 6, 4, 3, 7, 0, 5, 7, 3, 5, 8, 8, 2, 9, 6, 1, 9, 8, 5, 2,\n",
       "       0, 8, 0, 2, 2, 8, 0, 7, 3, 9, 6, 4, 7, 4, 5, 1, 4, 0, 4, 1, 2, 7,\n",
       "       7, 5, 7, 7, 4, 1, 0, 9, 2, 0, 2, 7, 3, 1, 4, 3, 2, 2, 0, 7, 1, 3,\n",
       "       8, 8, 7, 3, 1, 5, 3, 6, 6, 9, 9, 4, 9, 1, 4, 9, 3, 4, 0, 1, 2, 1,\n",
       "       8, 2, 8, 7, 1, 1, 1, 1, 0, 2, 6, 1, 6, 4, 1, 0, 2, 5, 7, 3, 0, 8,\n",
       "       2, 8, 8, 7, 7, 3, 3, 3, 9, 5, 9, 8, 5, 4, 4, 8, 7, 2, 7, 0, 6, 6,\n",
       "       4, 6, 2, 8, 1, 2, 1, 9, 4, 7, 1, 1, 8, 7, 6, 4, 9, 9, 2, 4, 9, 7,\n",
       "       0, 0, 6, 6, 4, 9, 0, 8, 9, 4, 5, 3, 6, 8, 9, 6, 8, 2, 1, 0, 4, 7,\n",
       "       8, 6, 3, 3, 6, 0, 5, 1])"
      ]
     },
     "execution_count": 25,
     "metadata": {},
     "output_type": "execute_result"
    }
   ],
   "source": [
    "model.predict(x_test)"
   ]
  },
  {
   "cell_type": "code",
   "execution_count": 29,
   "metadata": {},
   "outputs": [
    {
     "data": {
      "text/plain": [
       "<matplotlib.image.AxesImage at 0x1786fe59430>"
      ]
     },
     "execution_count": 29,
     "metadata": {},
     "output_type": "execute_result"
    },
    {
     "data": {
      "image/png": "[encoded data removed]",
      "text/plain": [
       "<Figure size 288x288 with 1 Axes>"
      ]
     },
     "metadata": {
      "needs_background": "light"
     },
     "output_type": "display_data"
    }
   ],
   "source": [
    "plt.matshow(digits.images[20])"
   ]
  },
  {
   "cell_type": "code",
   "execution_count": 30,
   "metadata": {},
   "outputs": [
    {
     "data": {
      "text/plain": [
       "array([0])"
      ]
     },
     "execution_count": 30,
     "metadata": {},
     "output_type": "execute_result"
    }
   ],
   "source": [
    "model.predict([digits.data[20]])"
   ]
  },
  {
   "cell_type": "code",
   "execution_count": 31,
   "metadata": {},
   "outputs": [],
   "source": [
    "y_predicted=model.predict(x_test)"
   ]
  },
  {
   "cell_type": "code",
   "execution_count": 32,
   "metadata": {},
   "outputs": [
    {
     "data": {
      "text/plain": [
       "array([[36,  0,  0,  0,  0,  0,  0,  0,  0,  0],\n",
       "       [ 0, 35,  0,  0,  0,  0,  0,  0,  1,  0],\n",
       "       [ 0,  0, 34,  0,  0,  0,  0,  0,  0,  0],\n",
       "       [ 0,  0,  0, 29,  0,  2,  0,  0,  0,  1],\n",
       "       [ 0,  1,  0,  0, 38,  0,  0,  0,  0,  2],\n",
       "       [ 0,  0,  0,  0,  0, 25,  1,  0,  0,  0],\n",
       "       [ 0,  0,  0,  0,  0,  0, 33,  0,  0,  0],\n",
       "       [ 0,  0,  0,  0,  0,  1,  0, 38,  0,  1],\n",
       "       [ 0,  0,  0,  2,  0,  0,  0,  0, 43,  0],\n",
       "       [ 0,  0,  0,  1,  0,  0,  0,  0,  3, 33]], dtype=int64)"
      ]
     },
     "execution_count": 32,
     "metadata": {},
     "output_type": "execute_result"
    }
   ],
   "source": [
    "from sklearn.metrics import confusion_matrix\n",
    "cm = confusion_matrix(y_test, y_predicted)\n",
    "cm"
   ]
  },
  {
   "cell_type": "code",
   "execution_count": 33,
   "metadata": {},
   "outputs": [
    {
     "data": {
      "text/plain": [
       "Text(69.0, 0.5, 'Truth')"
      ]
     },
     "execution_count": 33,
     "metadata": {},
     "output_type": "execute_result"
    },
    {
     "data": {
      "image/png": "[encoded data removed]",
      "text/plain": [
       "<Figure size 720x504 with 2 Axes>"
      ]
     },
     "metadata": {
      "needs_background": "light"
     },
     "output_type": "display_data"
    }
   ],
   "source": [
    "import seaborn as sn\n",
    "plt.figure(figsize = (10,7))\n",
    "sn.heatmap(cm, annot=True)\n",
    "plt.xlabel('Predicted')\n",
    "plt.ylabel('Truth')"
   ]
  },
  {
   "cell_type": "code",
   "execution_count": null,
   "metadata": {},
   "outputs": [],
   "source": []
  }
 ],
 "metadata": {
  "kernelspec": {
   "display_name": "Python 3",
   "language": "python",
   "name": "python3"
  },
  "language_info": {
   "codemirror_mode": {
    "name": "ipython",
    "version": 3
   },
   "file_extension": ".py",
   "mimetype": "text/x-python",
   "name": "python",
   "nbconvert_exporter": "python",
   "pygments_lexer": "ipython3",
   "version": "3.8.5"
  }
 },
 "nbformat": 4,
 "nbformat_minor": 4
}
